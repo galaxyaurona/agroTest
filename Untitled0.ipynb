{
  "nbformat": 4,
  "nbformat_minor": 0,
  "metadata": {
    "colab": {
      "name": "Untitled0.ipynb",
      "version": "0.3.2",
      "provenance": [],
      "include_colab_link": true
    },
    "kernelspec": {
      "name": "python3",
      "display_name": "Python 3"
    }
  },
  "cells": [
    {
      "cell_type": "markdown",
      "metadata": {
        "id": "view-in-github",
        "colab_type": "text"
      },
      "source": [
        "<a href=\"https://colab.research.google.com/github/jonmarksearle/ArgoTraq-Ionic/blob/master/Untitled0.ipynb\" target=\"_parent\"><img src=\"https://colab.research.google.com/assets/colab-badge.svg\" alt=\"Open In Colab\"/></a>"
      ]
    },
    {
      "metadata": {
        "id": "w2RxVaRyTO1H",
        "colab_type": "code",
        "colab": {}
      },
      "cell_type": "code",
      "source": [
        "\n"
      ],
      "execution_count": 0,
      "outputs": []
    },
    {
      "metadata": {
        "id": "Z3oZk3x2UqRv",
        "colab_type": "text"
      },
      "cell_type": "markdown",
      "source": [
        "# Sample Notebook: Part 0\n",
        "\n",
        "This notebook is Part 0 of two parts (Parts 0 and 1): in the computer science tradition, we try to number beginning at 0.\n",
        "Together, the two parts comprise a Lab. Aotough it's ungraded, use it as practice for completing and Submitting an dassignment.\n",
        "\n",
        "# Python code cells\n",
        "\n",
        "Run the following code to determine the version of the python running in this environment. Make a mental note of the Python Version.\n"
      ]
    },
    {
      "metadata": {
        "id": "yo7FRnKSVQCh",
        "colab_type": "code",
        "colab": {
          "base_uri": "https://localhost:8080/",
          "height": 102
        },
        "outputId": "9828d588-a0b4-409b-c283-1dd64b8fe0ae"
      },
      "cell_type": "code",
      "source": [
        "import sys\n",
        "print(sys.version)\n",
        "py_version = sys.version.split('|')[0]\n",
        "print(f'\\n ** you appear to be running Python version {py_version}')\n"
      ],
      "execution_count": 3,
      "outputs": [
        {
          "output_type": "stream",
          "text": [
            "3.6.7 (default, Oct 22 2018, 11:32:17) \n",
            "[GCC 8.2.0]\n",
            "\n",
            " ** you appear to be running Python version 3.6.7 (default, Oct 22 2018, 11:32:17) \n",
            "[GCC 8.2.0]\n"
          ],
          "name": "stdout"
        }
      ]
    },
    {
      "metadata": {
        "id": "tyLSi7sXUmEF",
        "colab_type": "text"
      },
      "cell_type": "markdown",
      "source": [
        ""
      ]
    }
  ]
}